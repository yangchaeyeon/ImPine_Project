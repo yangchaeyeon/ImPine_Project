{
 "cells": [
  {
   "cell_type": "code",
   "execution_count": 81,
   "id": "2b577a35",
   "metadata": {},
   "outputs": [],
   "source": [
    "import json\n",
    "import os\n",
    "import numpy as np\n",
    "import argparse\n",
    "import cv2\n",
    "import matplotlib.pyplot as plt"
   ]
  },
  {
   "cell_type": "code",
   "execution_count": 82,
   "id": "b00a2425",
   "metadata": {},
   "outputs": [
    {
     "name": "stdout",
     "output_type": "stream",
     "text": [
      "1-1. 종료\n",
      "1-2. 종료\n",
      "1-3. 종료\n",
      "1. 종료\n",
      "10-1. 종료\n",
      "10-2. 종료\n",
      "10-3. 종료\n",
      "10. 종료\n",
      "11-1. 종료\n",
      "11-2. 종료\n",
      "11-3. 종료\n",
      "11. 종료\n",
      "12. 종료\n",
      "2-1. 종료\n",
      "2-2. 종료\n",
      "2-3. 종료\n",
      "2. 종료\n",
      "3-1. 종료\n",
      "3-2. 종료\n",
      "3-3. 종료\n",
      "3. 종료\n",
      "4-1. 종료\n",
      "4-2. 종료\n",
      "4-3. 종료\n",
      "4. 종료\n",
      "5-1. 종료\n",
      "5-2. 종료\n",
      "5-3. 종료\n",
      "5. 종료\n",
      "6-1. 종료\n",
      "6-2. 종료\n",
      "6-3. 종료\n",
      "6. 종료\n",
      "7-1. 종료\n",
      "7-2. 종료\n",
      "7-3. 종료\n",
      "7. 종료\n",
      "8-1. 종료\n",
      "8-2. 종료\n",
      "8-3. 종료\n",
      "8. 종료\n",
      "9-1. 종료\n",
      "9-2. 종료\n",
      "9-3. 종료\n",
      "9. 종료\n"
     ]
    }
   ],
   "source": [
    "\n",
    "file_list = os.listdir('./data/json/')\n",
    "\n",
    "\n",
    "for file_name in file_list:\n",
    "    with open(f\"./data/json/{file_name}\", \"r\", encoding=\"utf8\") as f:\n",
    "        contents = f.read() # string 타입\n",
    "        json_data = json.loads(contents)\n",
    "    \n",
    "    black_canvas = np.zeros(( json_data['imageWidth'] ,json_data['imageHeight'], 3), dtype=\"uint8\")\n",
    "    try:\n",
    "        i=0\n",
    "        while True:\n",
    "            polygon = np.array(json_data['shapes'][i]['points'],dtype=np.int32)\n",
    "            \n",
    "            if json_data['shapes'][i]['label'] == 'disease':\n",
    "                color = 255,255,255\n",
    "            elif  json_data['shapes'][i]['label'] =='others':\n",
    "                color = 0,0,255\n",
    "\n",
    "            cv2.fillPoly(black_canvas,[polygon],color = color )\n",
    "            i=i+1\n",
    "\n",
    "    except:\n",
    "        #cv2.imshow('image',black_canvas)\n",
    "        cv2.imwrite(f'./testtarget/{file_name[:-4]}.jpg',black_canvas)\n",
    "        cv2.waitKey(0)\n",
    "        cv2.destroyAllWindows()\n",
    "        print(f\"{file_name[:-4]} 종료\")\n",
    "\n",
    "    "
   ]
  },
  {
   "cell_type": "code",
   "execution_count": null,
   "id": "04dd4f31",
   "metadata": {},
   "outputs": [],
   "source": []
  },
  {
   "cell_type": "code",
   "execution_count": null,
   "id": "00f26c5d",
   "metadata": {},
   "outputs": [],
   "source": [
    "# #json 경로 설정.\n",
    "# with open(\"./data/json/1-2.json\", \"r\", encoding=\"utf8\") as f:\n",
    "#     contents = f.read() # string 타입\n",
    "#     json_data = json.loads(contents)\n",
    "# print(json_data['shapes'][0]['label'])"
   ]
  },
  {
   "cell_type": "code",
   "execution_count": null,
   "id": "7d54818e",
   "metadata": {},
   "outputs": [],
   "source": [
    "# import numpy as np\n",
    "# import argparse\n",
    "# import cv2\n",
    "# import matplotlib.pyplot as plt\n",
    "\n",
    "# #검은색\n",
    "# #black_canvas = np.zeros(( json_data['imageWidth'] ,json_data['imageHeight'], 3), dtype=\"uint8\")\n",
    "\n",
    "# #json 좌표값\n",
    "# polygon = np.array(json_data['shapes'][0]['points'],dtype=np.int32)\n",
    "\n",
    "# print(json_data['shapes'])"
   ]
  },
  {
   "cell_type": "code",
   "execution_count": null,
   "id": "aaf5bff2",
   "metadata": {},
   "outputs": [],
   "source": [
    "\n",
    "# cv2.fillPoly(black_canvas,[polygon],color =(255,255,255))\n",
    "# #black_canvas = cv2.resize(black_canvas, (300, 300))\n",
    "# cv2.imshow('image',black_canvas)\n",
    "\n",
    "# #저장 경로 설정\n",
    "# cv2.imwrite('./testtarget/target01.jpg',black_canvas)\n",
    "# cv2.waitKey(0)\n",
    "# cv2.destroyAllWindows()"
   ]
  }
 ],
 "metadata": {
  "kernelspec": {
   "display_name": "Python 3 (ipykernel)",
   "language": "python",
   "name": "python3"
  },
  "language_info": {
   "codemirror_mode": {
    "name": "ipython",
    "version": 3
   },
   "file_extension": ".py",
   "mimetype": "text/x-python",
   "name": "python",
   "nbconvert_exporter": "python",
   "pygments_lexer": "ipython3",
   "version": "3.7.13"
  }
 },
 "nbformat": 4,
 "nbformat_minor": 5
}
