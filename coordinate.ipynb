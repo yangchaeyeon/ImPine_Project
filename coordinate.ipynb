{
 "cells": [
  {
   "cell_type": "code",
   "execution_count": 1,
   "id": "9718133f",
   "metadata": {},
   "outputs": [],
   "source": [
    "import numpy as np\n",
    "import cv2"
   ]
  },
  {
   "cell_type": "code",
   "execution_count": 144,
   "id": "14986ffa",
   "metadata": {},
   "outputs": [],
   "source": [
    "map_img = cv2.imread('data/p (4).jpg', 0)"
   ]
  },
  {
   "cell_type": "code",
   "execution_count": 145,
   "id": "3d14db19",
   "metadata": {},
   "outputs": [
    {
     "data": {
      "text/plain": [
       "((337, 600), dtype('uint8'))"
      ]
     },
     "execution_count": 145,
     "metadata": {},
     "output_type": "execute_result"
    }
   ],
   "source": [
    "map_img.shape, map_img.dtype"
   ]
  },
  {
   "cell_type": "code",
   "execution_count": 146,
   "id": "21474eac",
   "metadata": {},
   "outputs": [],
   "source": [
    "map_img = cv2.resize(map_img, dsize = (256,256))"
   ]
  },
  {
   "cell_type": "code",
   "execution_count": 147,
   "id": "040af785",
   "metadata": {},
   "outputs": [
    {
     "data": {
      "text/plain": [
       "((256, 256), dtype('uint8'))"
      ]
     },
     "execution_count": 147,
     "metadata": {},
     "output_type": "execute_result"
    }
   ],
   "source": [
    "map_img.shape, map_img.dtype"
   ]
  },
  {
   "cell_type": "code",
   "execution_count": 148,
   "id": "cabd6930",
   "metadata": {},
   "outputs": [],
   "source": [
    "cv2.imshow('map', map_img)\n",
    "cv2.waitKey(0)\n",
    "cv2.destroyAllWindows()"
   ]
  },
  {
   "cell_type": "code",
   "execution_count": 149,
   "id": "f2ecbaed",
   "metadata": {},
   "outputs": [],
   "source": [
    "width, height = map_img.shape\n",
    "map = np.zeros((width, height), np.uint8)"
   ]
  },
  {
   "cell_type": "code",
   "execution_count": 150,
   "id": "48ff6ffd",
   "metadata": {},
   "outputs": [],
   "source": [
    "for x in range(height):\n",
    "    for y in range(width):\n",
    "        if map_img[x][y] == 255:\n",
    "            map[x][y] = 1\n",
    "        else:\n",
    "            map[x][y] = 0"
   ]
  },
  {
   "cell_type": "code",
   "execution_count": 151,
   "id": "bd57f4b8",
   "metadata": {},
   "outputs": [
    {
     "name": "stdout",
     "output_type": "stream",
     "text": [
      "95 171\n",
      "95 172\n",
      "96 170\n",
      "97 170\n",
      "97 171\n",
      "97 172\n",
      "97 173\n",
      "98 170\n",
      "98 171\n",
      "98 172\n",
      "98 173\n",
      "98 174\n",
      "99 171\n",
      "99 172\n",
      "99 173\n",
      "99 174\n",
      "100 171\n",
      "100 172\n",
      "100 173\n",
      "101 171\n",
      "101 172\n",
      "101 173\n",
      "102 171\n",
      "102 172\n",
      "102 173\n",
      "103 174\n",
      "104 173\n",
      "105 172\n",
      "105 173\n",
      "149 227\n",
      "151 225\n",
      "151 228\n",
      "151 229\n",
      "151 230\n",
      "151 231\n",
      "152 225\n",
      "152 226\n",
      "152 227\n",
      "152 228\n",
      "152 229\n",
      "152 230\n",
      "152 231\n",
      "153 225\n",
      "153 226\n",
      "153 227\n",
      "153 228\n",
      "153 229\n",
      "153 230\n",
      "153 231\n",
      "154 225\n",
      "154 226\n",
      "154 227\n",
      "154 228\n",
      "154 229\n",
      "154 230\n",
      "154 231\n",
      "155 225\n",
      "155 226\n",
      "155 227\n",
      "155 228\n",
      "155 229\n",
      "155 230\n",
      "155 231\n",
      "156 225\n",
      "156 226\n",
      "156 227\n",
      "156 228\n",
      "156 229\n",
      "156 230\n",
      "156 231\n",
      "157 224\n",
      "157 225\n",
      "157 226\n",
      "157 227\n",
      "157 228\n",
      "157 229\n",
      "157 230\n",
      "157 231\n",
      "157 232\n",
      "157 233\n",
      "158 227\n",
      "158 228\n",
      "158 229\n",
      "158 230\n",
      "158 234\n",
      "159 230\n",
      "159 232\n",
      "160 230\n",
      "160 231\n",
      "160 233\n",
      "161 227\n",
      "161 228\n",
      "161 229\n",
      "161 230\n",
      "162 228\n"
     ]
    },
    {
     "data": {
      "text/plain": [
       "95"
      ]
     },
     "execution_count": 151,
     "metadata": {},
     "output_type": "execute_result"
    }
   ],
   "source": [
    "for x in range(height):\n",
    "    for y in range(width):\n",
    "        if map[x][y] == 1:\n",
    "            print(x, y)\n",
    "            \n",
    "np.count_nonzero(map)"
   ]
  },
  {
   "cell_type": "code",
   "execution_count": null,
   "id": "5dcf4a6f",
   "metadata": {},
   "outputs": [],
   "source": []
  }
 ],
 "metadata": {
  "kernelspec": {
   "display_name": "Python 3 (ipykernel)",
   "language": "python",
   "name": "python3"
  },
  "language_info": {
   "codemirror_mode": {
    "name": "ipython",
    "version": 3
   },
   "file_extension": ".py",
   "mimetype": "text/x-python",
   "name": "python",
   "nbconvert_exporter": "python",
   "pygments_lexer": "ipython3",
   "version": "3.8.13"
  }
 },
 "nbformat": 4,
 "nbformat_minor": 5
}
