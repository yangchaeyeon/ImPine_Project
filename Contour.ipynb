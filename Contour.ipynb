{
 "cells": [
  {
   "cell_type": "code",
   "execution_count": 100,
   "id": "cc8cea7d",
   "metadata": {},
   "outputs": [],
   "source": [
    "import cv2\n",
    "import numpy as np"
   ]
  },
  {
   "cell_type": "code",
   "execution_count": 204,
   "id": "be28535b",
   "metadata": {},
   "outputs": [],
   "source": [
    "img = cv2.pyrDown(cv2.imread('data/p (6).jpg', cv2.IMREAD_UNCHANGED))\n",
    "imgray = cv2.cvtColor(img, cv2.COLOR_BGR2GRAY)"
   ]
  },
  {
   "cell_type": "code",
   "execution_count": 205,
   "id": "3794c9ea",
   "metadata": {},
   "outputs": [],
   "source": [
    "# threshold image\n",
    "ret, threshed_img = cv2.threshold(imgray, 127, 255, cv2.THRESH_BINARY)"
   ]
  },
  {
   "cell_type": "code",
   "execution_count": 206,
   "id": "c9ff6b54",
   "metadata": {},
   "outputs": [],
   "source": [
    "# find contours and get the external one\n",
    "contours, hier = cv2.findContours(threshed_img, cv2.RETR_TREE, cv2.CHAIN_APPROX_SIMPLE)"
   ]
  },
  {
   "cell_type": "code",
   "execution_count": 207,
   "id": "ba12384a",
   "metadata": {},
   "outputs": [
    {
     "name": "stdout",
     "output_type": "stream",
     "text": [
      "14\n"
     ]
    }
   ],
   "source": [
    "# with each contour, draw boundingRect in green\n",
    "# a minAreaRect in red and\n",
    "# a minEnclosingCircle in blue\n",
    "arr = np.empty((0,2), int)\n",
    "for c in contours:\n",
    "    # get the min area rect\n",
    "    rect = cv2.minAreaRect(c)\n",
    "    box = cv2.boxPoints(rect)\n",
    "    # convert all coordinates floating point values to int\n",
    "    box = np.int0(box)\n",
    "    arr = np.append(arr, box, axis = 0)\n",
    "    \n",
    "    # draw a red 'nghien' rectangle\n",
    "    cv2.drawContours(img, [box], 0, (0, 0, 255))\n",
    "    #arr = np.append(arr, np.array(box), axis = 0)\n",
    "    #arr = np.append(arr, np.array(box))\n",
    "\n",
    "print(len(contours))"
   ]
  },
  {
   "cell_type": "code",
   "execution_count": 208,
   "id": "6225605a",
   "metadata": {},
   "outputs": [],
   "source": [
    "arr_split = np.split(arr, len(contours))\n",
    "arr_mean = []\n",
    "\n",
    "for x in arr_split:\n",
    "    arr_mean = np.append(arr_mean, x.mean(axis=0))\n",
    "\n",
    "arr_mean = np.split(arr_mean, len(contours))\n",
    "arr_mean = np.int0(arr_mean)"
   ]
  },
  {
   "cell_type": "code",
   "execution_count": 218,
   "id": "7c8d6d94",
   "metadata": {},
   "outputs": [],
   "source": [
    "color = (255,0,0)\n",
    "\n",
    "for mean in arr_mean:\n",
    "    x = mean[0]\n",
    "    y = mean[1]\n",
    "    cv2.line(img, (x,y), (x,y), color, 5)\n",
    "    \n",
    "cv2.imshow(\"contours\", img)\n",
    "cv2.waitKey(0)\n",
    "cv2.destroyAllWindows()"
   ]
  },
  {
   "cell_type": "code",
   "execution_count": 211,
   "id": "224dccee",
   "metadata": {},
   "outputs": [
    {
     "data": {
      "text/plain": [
       "array([[216, 121],\n",
       "       [ 70, 119],\n",
       "       [156,  93],\n",
       "       [ 48,  76],\n",
       "       [ 22,  76],\n",
       "       [173,  74],\n",
       "       [ 69,  63],\n",
       "       [106,  62],\n",
       "       [124,  64],\n",
       "       [ 87,  53],\n",
       "       [201,  38],\n",
       "       [155,  27],\n",
       "       [ 95,  35],\n",
       "       [ 40,  28]], dtype=int64)"
      ]
     },
     "execution_count": 211,
     "metadata": {},
     "output_type": "execute_result"
    }
   ],
   "source": [
    "arr_mean"
   ]
  }
 ],
 "metadata": {
  "kernelspec": {
   "display_name": "Python 3 (ipykernel)",
   "language": "python",
   "name": "python3"
  },
  "language_info": {
   "codemirror_mode": {
    "name": "ipython",
    "version": 3
   },
   "file_extension": ".py",
   "mimetype": "text/x-python",
   "name": "python",
   "nbconvert_exporter": "python",
   "pygments_lexer": "ipython3",
   "version": "3.8.13"
  }
 },
 "nbformat": 4,
 "nbformat_minor": 5
}
