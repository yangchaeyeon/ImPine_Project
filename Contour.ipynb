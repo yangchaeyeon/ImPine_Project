{
 "cells": [
  {
   "cell_type": "code",
   "execution_count": 100,
   "id": "9f53d9db",
   "metadata": {},
   "outputs": [],
   "source": [
    "import cv2\n",
    "import numpy as np"
   ]
  },
  {
   "cell_type": "code",
   "execution_count": 155,
   "id": "de713140",
   "metadata": {},
   "outputs": [],
   "source": [
    "img = cv2.pyrDown(cv2.imread('data/2.jpg', cv2.IMREAD_UNCHANGED))\n",
    "imgray = cv2.cvtColor(img, cv2.COLOR_BGR2GRAY)"
   ]
  },
  {
   "cell_type": "code",
   "execution_count": 156,
   "id": "0e121a5b",
   "metadata": {},
   "outputs": [],
   "source": [
    "# threshold image\n",
    "ret, threshed_img = cv2.threshold(imgray, 127, 255, cv2.THRESH_BINARY)"
   ]
  },
  {
   "cell_type": "code",
   "execution_count": 157,
   "id": "187c1dd8",
   "metadata": {},
   "outputs": [],
   "source": [
    "# find contours and get the external one\n",
    "contours, hier = cv2.findContours(threshed_img, cv2.RETR_TREE, cv2.CHAIN_APPROX_SIMPLE)\n",
    "\n",
    "#image, contours, hier = cv2.findContours(threshed_img, cv2.RETR_TREE,\n",
    "#                cv2.CHAIN_APPROX_SIMPLE)"
   ]
  },
  {
   "cell_type": "code",
   "execution_count": 158,
   "id": "fd08fd84",
   "metadata": {},
   "outputs": [
    {
     "name": "stdout",
     "output_type": "stream",
     "text": [
      "[[  0 105]\n",
      " [ 68 105]\n",
      " [ 68 158]\n",
      " [  0 158]]\n",
      "[[ 53   0]\n",
      " [140   0]\n",
      " [140  50]\n",
      " [ 53  50]]\n",
      "2\n",
      "[[  0 105]\n",
      " [ 68 105]\n",
      " [ 68 158]\n",
      " [  0 158]]\n",
      "[[ 53   0]\n",
      " [140   0]\n",
      " [140  50]\n",
      " [ 53  50]]\n",
      "[ 34.  131.5]\n",
      "[96.5 25. ]\n"
     ]
    },
    {
     "data": {
      "text/plain": [
       "array([ 34, 131], dtype=int64)"
      ]
     },
     "execution_count": 158,
     "metadata": {},
     "output_type": "execute_result"
    }
   ],
   "source": [
    "# with each contour, draw boundingRect in green\n",
    "# a minAreaRect in red and\n",
    "# a minEnclosingCircle in blue\n",
    "arr = np.empty((0,2), int)\n",
    "for c in contours:\n",
    "    ## get the bounding rect\n",
    "    # x, y, w, h = cv2.boundingRect(c)\n",
    "    ## draw a green rectangle to visualize the bounding rect\n",
    "    # cv2.rectangle(img, (x, y), (x+w, y+h), (0, 255, 0), 2)\n",
    "\n",
    "    # get the min area rect\n",
    "    rect = cv2.minAreaRect(c)\n",
    "    box = cv2.boxPoints(rect)\n",
    "    # convert all coordinates floating point values to int\n",
    "    box = np.int0(box)\n",
    "    arr = np.append(arr, box, axis = 0)\n",
    "    # draw a red 'nghien' rectangle\n",
    "    cv2.drawContours(img, [box], 0, (0, 0, 255))\n",
    "    #arr = np.append(arr, np.array(box), axis = 0)\n",
    "    #arr = np.append(arr, np.array(box))\n",
    "    print(box)\n",
    "    \n",
    "    \n",
    "#     # finally, get the min enclosing circle\n",
    "#     (x, y), radius = cv2.minEnclosingCircle(c)\n",
    "#     # convert all values to int\n",
    "#     center = (int(x), int(y))\n",
    "#     radius = int(radius)\n",
    "#     # and draw the circle in blue\n",
    "#     img = cv2.circle(img, center, radius, (255, 0, 0), 2)\n",
    "\n",
    "print(len(contours))\n",
    "print(arr[:4])\n",
    "print(arr[4:])\n",
    "print(arr[:4].mean(axis=0))\n",
    "print(arr[4:].mean(axis=0))\n",
    "arr_x = arr[:4].mean(axis=0)\n",
    "arr_x = np.int0(arr_x)\n",
    "arr_x"
   ]
  },
  {
   "cell_type": "code",
   "execution_count": 159,
   "id": "cc72a541",
   "metadata": {},
   "outputs": [],
   "source": [
    "# cv2.drawContours(img, contours, -1, (255, 255, 0), 1)\n",
    "\n",
    "cv2.imshow(\"contours\", img)\n",
    "\n",
    "cv2.imshow(\"contours\", img)\n",
    "\n",
    "while True:\n",
    "    key = cv2.waitKey(1)\n",
    "    if key == 27: #ESC key to break\n",
    "        break\n",
    "\n",
    "cv2.destroyAllWindows()"
   ]
  },
  {
   "cell_type": "code",
   "execution_count": 160,
   "id": "bf42506a",
   "metadata": {},
   "outputs": [
    {
     "name": "stdout",
     "output_type": "stream",
     "text": [
      "[[ 53   0]\n",
      " [140   0]\n",
      " [140  50]\n",
      " [ 53  50]]\n",
      "[[ 53   0]\n",
      " [140   0]\n",
      " [140  50]\n",
      " [ 53  50]]\n"
     ]
    }
   ],
   "source": [
    "for c in contours:\n",
    "    print(box)"
   ]
  },
  {
   "cell_type": "code",
   "execution_count": 161,
   "id": "457e2d87",
   "metadata": {},
   "outputs": [],
   "source": [
    "red = (0,0,255)\n",
    "x = arr_x[0]\n",
    "y = arr_x[1]\n",
    "cv2.line(img, (x,y), (x,y), red, 5)\n",
    "cv2.imshow(\"contour\", img)\n",
    "cv2.waitKey(0)\n",
    "cv2.destroyAllWindows()"
   ]
  },
  {
   "cell_type": "code",
   "execution_count": 132,
   "id": "9e0a8da8",
   "metadata": {},
   "outputs": [
    {
     "data": {
      "text/plain": [
       "102"
      ]
     },
     "execution_count": 132,
     "metadata": {},
     "output_type": "execute_result"
    }
   ],
   "source": [
    "arr_x[1]"
   ]
  }
 ],
 "metadata": {
  "kernelspec": {
   "display_name": "Python 3 (ipykernel)",
   "language": "python",
   "name": "python3"
  },
  "language_info": {
   "codemirror_mode": {
    "name": "ipython",
    "version": 3
   },
   "file_extension": ".py",
   "mimetype": "text/x-python",
   "name": "python",
   "nbconvert_exporter": "python",
   "pygments_lexer": "ipython3",
   "version": "3.8.13"
  }
 },
 "nbformat": 4,
 "nbformat_minor": 5
}
