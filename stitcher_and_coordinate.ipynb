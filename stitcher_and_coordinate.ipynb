{
 "cells": [
  {
   "cell_type": "code",
   "execution_count": null,
   "id": "74f32ccc",
   "metadata": {},
   "outputs": [
    {
     "name": "stderr",
     "output_type": "stream",
     "text": [
      "C:\\Users\\82106\\miniconda3\\envs\\tf24\\lib\\site-packages\\scipy\\__init__.py:146: UserWarning: A NumPy version >=1.16.5 and <1.23.0 is required for this version of SciPy (detected version 1.23.1\n",
      "  warnings.warn(f\"A NumPy version >={np_minversion} and <{np_maxversion}\"\n"
     ]
    }
   ],
   "source": [
    "import os\n",
    "import math\n",
    "from PIL import Image ,  ImageOps\n",
    "from imutils import paths\n",
    "import numpy as np\n",
    "import argparse\n",
    "import imutils\n",
    "import cv2\n",
    "import glob\n",
    "import matplotlib.pyplot as plt\n",
    "import tensorflow as tf\n",
    "import matplotlib.cm as cm"
   ]
  },
  {
   "cell_type": "markdown",
   "id": "43712adb",
   "metadata": {},
   "source": [
    "- 이미지 이어붙이기"
   ]
  },
  {
   "cell_type": "code",
   "execution_count": 4,
   "id": "83744d7a",
   "metadata": {},
   "outputs": [],
   "source": [
    "def resize(filename):\n",
    "    img = cv2.imread(filename)\n",
    "    width, height = img.shape[:2]\n",
    "    if height * width * 3 <= 2 ** 25:\n",
    "        return img\n",
    "    i = 2\n",
    "    t_height, t_width = height, width\n",
    "    while t_height * t_width * 3 > 2 ** 25:\n",
    "        t_height = int(t_height / math.sqrt(i))\n",
    "        t_width = int(t_width / math.sqrt(i))\n",
    "        i += 1\n",
    "    height, width = t_height, t_width\n",
    "    image = Image.open(filename)\n",
    "    resize_image = image.resize((height, width))\n",
    "    filename = filename[:-1 * (len(filename.split(\".\")[-1]) + 1)] + \"_resized.\" + filename.split(\".\")[-1]\n",
    "    resize_image.save(filename)\n",
    "    img = cv2.imread(filename)\n",
    "    os.system(\"del \" + filename.replace(\"/\", \"\\\\\"))\n",
    "    return img"
   ]
  },
  {
   "cell_type": "code",
   "execution_count": 10,
   "id": "aadec8b5",
   "metadata": {},
   "outputs": [],
   "source": [
    "# import argparse\n",
    "\n",
    "# ap = argparse.ArgumentParser()\n",
    "# ap.add_argument(\"-i\", \"--images\", type=str, required=True,\n",
    "#                 help=\"path to input directory of images to stitch\")\n",
    "# ap.add_argument(\"-o\", \"--output\", type=str, required=True,\n",
    "#                 help=\"path to the output image\")\n",
    "\n",
    "import easydict\n",
    "\n",
    "args = easydict.EasyDict({ \"images\": 'images/', \"ouput\": 'output/'})\n",
    "#args = vars(ap.parse_args())"
   ]
  },
  {
   "cell_type": "code",
   "execution_count": 11,
   "id": "93a30a34",
   "metadata": {},
   "outputs": [
    {
     "name": "stdout",
     "output_type": "stream",
     "text": [
      "[INFO] loading images...\n"
     ]
    }
   ],
   "source": [
    "# 이미지 불러오기\n",
    "print(\"[INFO] loading images...\")\n",
    "imagePaths = sorted(list(paths.list_images(args[\"images\"])))\n",
    "images = []\n",
    "\n",
    "for imagePath in imagePaths:\n",
    "    image = resize(imagePath)\n",
    "    images.append(image)"
   ]
  },
  {
   "cell_type": "code",
   "execution_count": 12,
   "id": "9bc98ca6",
   "metadata": {},
   "outputs": [],
   "source": [
    "# 이어붙이기\n",
    "stitcher = cv2.createStitcher() if imutils.is_cv3() else cv2.Stitcher_create()\n",
    "(status, stitched) = stitcher.stitch(images)"
   ]
  },
  {
   "cell_type": "code",
   "execution_count": 13,
   "id": "2d7dc387",
   "metadata": {},
   "outputs": [],
   "source": [
    "# cv2.imshow(\"Stitched\", stitched)\n",
    "# cv2.waitKey(0)\n",
    "# cv2.destroyAllWindows()"
   ]
  },
  {
   "cell_type": "code",
   "execution_count": 14,
   "id": "e7b6c03f",
   "metadata": {},
   "outputs": [
    {
     "name": "stdout",
     "output_type": "stream",
     "text": [
      "[INFO] image stitching failed (3: STITCHER_ERR_CAMERA_PARAMETERS_ADJUSTMENT_FAIL)\n"
     ]
    }
   ],
   "source": [
    "# 이미지 저장, 출력\n",
    "if status == 0:\n",
    "    # write the output stitched image to disk\n",
    "    cv2.imwrite('output/Stitched_02.png', stitched)\n",
    "\n",
    "    # display the output stitched image to our screen\n",
    "    cv2.imshow(\"Stitched\", stitched)\n",
    "    cv2.waitKey(0)\n",
    "    cv2.destroyAllWindows()\n",
    "else:\n",
    "    if status == cv2.STITCHER_ERR_NEED_MORE_IMGS:\n",
    "        print(\"[INFO] image stitching failed (1: STITCHER_ERR_NEED_MORE_IMGS)\")\n",
    "    elif status == cv2.STITCHER_ERR_HOMOGRAPHY_EST_FAIL:\n",
    "        print(\"[INFO] image stitching failed (2: STITCHER_ERR_HOMOGRAPHY_EST_FAIL)\")\n",
    "    else:\n",
    "        print(\"[INFO] image stitching failed (3: STITCHER_ERR_CAMERA_PARAMETERS_ADJUSTMENT_FAIL)\")"
   ]
  },
  {
   "cell_type": "markdown",
   "id": "280f92c0",
   "metadata": {},
   "source": [
    "- 좌표 출력"
   ]
  },
  {
   "cell_type": "code",
   "execution_count": null,
   "id": "32dc9906",
   "metadata": {},
   "outputs": [],
   "source": [
    "# 이진화(예측) 이미지 불러오기\n",
    "img = cv2.pyrDown(cv2.imread('output/Stitched_02.png', cv2.IMREAD_UNCHANGED))\n",
    "imgray = cv2.cvtColor(img, cv2.COLOR_BGR2GRAY)"
   ]
  },
  {
   "cell_type": "code",
   "execution_count": null,
   "id": "d3af825f",
   "metadata": {},
   "outputs": [],
   "source": [
    "# threshold image\n",
    "ret, threshed_img = cv2.threshold(imgray, 127, 255, cv2.THRESH_BINARY)"
   ]
  },
  {
   "cell_type": "code",
   "execution_count": null,
   "id": "89873421",
   "metadata": {},
   "outputs": [],
   "source": [
    "# find contours and get the external one\n",
    "contours, hier = cv2.findContours(threshed_img, cv2.RETR_TREE, cv2.CHAIN_APPROX_SIMPLE)"
   ]
  },
  {
   "cell_type": "code",
   "execution_count": null,
   "id": "90ad5d4c",
   "metadata": {},
   "outputs": [],
   "source": [
    "# with each contour, draw boundingRect in green\n",
    "# a minAreaRect in red and\n",
    "# a minEnclosingCircle in blue\n",
    "arr = np.empty((0,2), int)\n",
    "for c in contours:\n",
    "    # get the min area rect\n",
    "    rect = cv2.minAreaRect(c)\n",
    "    box = cv2.boxPoints(rect)\n",
    "    # convert all coordinates floating point values to int\n",
    "    box = np.int0(box)\n",
    "    arr = np.append(arr, box, axis = 0)\n",
    "    \n",
    "    # draw a red 'nghien' rectangle\n",
    "    cv2.drawContours(img, [box], 0, (0, 0, 255))\n",
    "    #arr = np.append(arr, np.array(box), axis = 0)\n",
    "    #arr = np.append(arr, np.array(box))\n",
    "\n",
    "# 피해 구역 개수\n",
    "print(len(contours))"
   ]
  },
  {
   "cell_type": "code",
   "execution_count": null,
   "id": "57888b18",
   "metadata": {},
   "outputs": [],
   "source": [
    "arr_split = np.split(arr, len(contours))\n",
    "arr_mean = []\n",
    "\n",
    "for x in arr_split:\n",
    "    arr_mean = np.append(arr_mean, x.mean(axis=0))\n",
    "\n",
    "arr_mean = np.split(arr_mean, len(contours))\n",
    "arr_mean = np.int0(arr_mean)"
   ]
  },
  {
   "cell_type": "code",
   "execution_count": null,
   "id": "333588c9",
   "metadata": {},
   "outputs": [],
   "source": [
    "color = (255,0,0)\n",
    "\n",
    "for mean in arr_mean:\n",
    "    x = mean[0]\n",
    "    y = mean[1]\n",
    "    cv2.line(img, (x,y), (x,y), color, 5)\n",
    "    \n",
    "cv2.imwrite(\"coordinate/co_stitched_02.png\", img)    \n",
    "\n",
    "cv2.imshow(\"contours\", img)\n",
    "cv2.waitKey(0)\n",
    "cv2.destroyAllWindows()"
   ]
  },
  {
   "cell_type": "code",
   "execution_count": null,
   "id": "1bafba78",
   "metadata": {},
   "outputs": [],
   "source": [
    "#좌표\n",
    "arr_mean"
   ]
  },
  {
   "cell_type": "markdown",
   "id": "82654ab2",
   "metadata": {},
   "source": [
    "- 면적 출력"
   ]
  },
  {
   "cell_type": "code",
   "execution_count": null,
   "id": "2b0991f7",
   "metadata": {},
   "outputs": [],
   "source": [
    "SIZE = 256\n",
    "\n",
    "cv2.imshow(\"threshold\", threshed_img)\n",
    "cv2.waitKey(0)\n",
    "cv2.destroyAllWindows()\n",
    "\n",
    "hist = cv2.calcHist(images = [threshed_img], \n",
    "                    channels = [0], \n",
    "                    mask = None,\n",
    "                    histSize = [SIZE],\n",
    "                    ranges = [0, SIZE])\n",
    "\n",
    "plt.hist(threshed_img.ravel(), SIZE, [0, SIZE])\n",
    "plt.show()"
   ]
  },
  {
   "cell_type": "code",
   "execution_count": null,
   "id": "5537aae6",
   "metadata": {},
   "outputs": [],
   "source": [
    "height, width = threshed_img.shape[0], threshed_img.shape[1] \n",
    "rectangle_area = height * width\n",
    "rate_w = hist[-1] / rectangle_area\n",
    "rate_b = hist[0] / rectangle_area\n",
    "\n",
    "ds_area = 100*100 # 전체 면적\n",
    "ds_S = ds_area*rate_w # 질병 면적\n",
    "st_S = ds_area*rate_b # 정상 면적\n",
    "    \n",
    "print(\"피해지역면적 : \", ds_S, \"\\n정상지역면적 : \", st_S)"
   ]
  }
 ],
 "metadata": {
  "kernelspec": {
   "display_name": "Python 3 (ipykernel)",
   "language": "python",
   "name": "python3"
  },
  "language_info": {
   "codemirror_mode": {
    "name": "ipython",
    "version": 3
   },
   "file_extension": ".py",
   "mimetype": "text/x-python",
   "name": "python",
   "nbconvert_exporter": "python",
   "pygments_lexer": "ipython3",
   "version": "3.8.13"
  }
 },
 "nbformat": 4,
 "nbformat_minor": 5
}
