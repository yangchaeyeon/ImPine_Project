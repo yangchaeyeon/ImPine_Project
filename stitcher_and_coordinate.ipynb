{
 "cells": [
  {
   "cell_type": "code",
   "execution_count": 100,
   "id": "74f32ccc",
   "metadata": {},
   "outputs": [],
   "source": [
    "import os\n",
    "import math\n",
    "from PIL import Image ,  ImageOps\n",
    "from imutils import paths\n",
    "import numpy as np\n",
    "import imutils\n",
    "import cv2\n",
    "import glob\n",
    "import matplotlib.pyplot as plt\n",
    "import tensorflow as tf\n",
    "import matplotlib.cm as cm\n",
    "import natsort"
   ]
  },
  {
   "cell_type": "markdown",
   "id": "43712adb",
   "metadata": {},
   "source": [
    "- 이미지 이어붙이기"
   ]
  },
  {
   "cell_type": "code",
   "execution_count": 104,
   "id": "83744d7a",
   "metadata": {},
   "outputs": [],
   "source": [
    "def resize(filename):\n",
    "    img = cv2.imread(filename)\n",
    "    width, height = img.shape[:2]\n",
    "    if (height, width) == (256, 256):\n",
    "        return img\n",
    "\n",
    "    image = Image.open(filename)\n",
    "    resize_image = image.resize((256, 256))\n",
    "    filename = filename[:-1 * (len(filename.split(\".\")[-1]) + 1)] + \"_resized.\" + filename.split(\".\")[-1]\n",
    "    resize_image.save(filename) # resize 후 파일 저장\n",
    "    img = cv2.imread(filename) # resize된 새로운 파일 읽기\n",
    "    os.system(\"del \" + filename.replace(\"/\", \"\\\\\"))\n",
    "    return img"
   ]
  },
  {
   "cell_type": "code",
   "execution_count": 105,
   "id": "aadec8b5",
   "metadata": {},
   "outputs": [],
   "source": [
    "# import argparse\n",
    "\n",
    "# ap = argparse.ArgumentParser()\n",
    "# ap.add_argument(\"-i\", \"--images\", type=str, required=True,\n",
    "#                 help=\"path to input directory of images to stitch\")\n",
    "# ap.add_argument(\"-o\", \"--output\", type=str, required=True,\n",
    "#                 help=\"path to the output image\")\n",
    "\n",
    "import easydict\n",
    "\n",
    "args = easydict.EasyDict({ \"images\": 'images/', \"ouput\": 'output/'})\n",
    "#args = vars(ap.parse_args())"
   ]
  },
  {
   "cell_type": "code",
   "execution_count": 107,
   "id": "93a30a34",
   "metadata": {},
   "outputs": [
    {
     "name": "stdout",
     "output_type": "stream",
     "text": [
      "[INFO] loading images...\n",
      "['images/0.jpg', 'images/1.jpg', 'images/2.jpg', 'images/3.jpg', 'images/4.jpg', 'images/5.jpg', 'images/6.jpg', 'images/7.jpg', 'images/8.jpg', 'images/9.jpg', 'images/10.jpg', 'images/11.jpg', 'images/12.jpg']\n"
     ]
    }
   ],
   "source": [
    "# 이미지 불러오기\n",
    "print(\"[INFO] loading images...\")\n",
    "imagePaths = natsort.natsorted(list(paths.list_images(args[\"images\"])))\n",
    "images = []\n",
    "\n",
    "for imagePath in imagePaths:\n",
    "    image = resize(imagePath)\n",
    "#     print(image.shape)\n",
    "    images.append(image)"
   ]
  },
  {
   "cell_type": "code",
   "execution_count": 91,
   "id": "9bc98ca6",
   "metadata": {},
   "outputs": [],
   "source": [
    "# 이어붙이기\n",
    "stitcher = cv2.createStitcher() if imutils.is_cv3() else cv2.Stitcher_create()\n",
    "(status, stitched) = stitcher.stitch(images)"
   ]
  },
  {
   "cell_type": "code",
   "execution_count": 92,
   "id": "2d7dc387",
   "metadata": {},
   "outputs": [],
   "source": [
    "# cv2.imshow(\"Stitched\", stitched)\n",
    "# cv2.waitKey(0)\n",
    "# cv2.destroyAllWindows()"
   ]
  },
  {
   "cell_type": "code",
   "execution_count": 93,
   "id": "e7b6c03f",
   "metadata": {},
   "outputs": [],
   "source": [
    "# 이미지 저장, 출력\n",
    "if status == 0:\n",
    "    # write the output stitched image to disk\n",
    "    cv2.imwrite('output/Stitched_01.png', stitched)\n",
    "\n",
    "    # display the output stitched image to our screen\n",
    "    cv2.imshow(\"Stitched\", stitched)\n",
    "    cv2.waitKey(0)\n",
    "    cv2.destroyAllWindows()\n",
    "    \n",
    "else:\n",
    "    if status == cv2.STITCHER_ERR_NEED_MORE_IMGS:\n",
    "        print(\"[INFO] image stitching failed (1: STITCHER_ERR_NEED_MORE_IMGS)\")\n",
    "    elif status == cv2.STITCHER_ERR_HOMOGRAPHY_EST_FAIL:\n",
    "        print(\"[INFO] image stitching failed (2: STITCHER_ERR_HOMOGRAPHY_EST_FAIL)\")\n",
    "    else:\n",
    "        print(\"[INFO] image stitching failed (3: STITCHER_ERR_CAMERA_PARAMETERS_ADJUSTMENT_FAIL)\")"
   ]
  },
  {
   "cell_type": "markdown",
   "id": "280f92c0",
   "metadata": {},
   "source": [
    "- 좌표 출력"
   ]
  },
  {
   "cell_type": "code",
   "execution_count": 23,
   "id": "32dc9906",
   "metadata": {},
   "outputs": [],
   "source": [
    "# 이진화(예측) 이미지 불러오기\n",
    "img = cv2.pyrDown(cv2.imread('output/Stitched_02.png', cv2.IMREAD_UNCHANGED))\n",
    "imgray = cv2.cvtColor(img, cv2.COLOR_BGR2GRAY)"
   ]
  },
  {
   "cell_type": "code",
   "execution_count": 24,
   "id": "d3af825f",
   "metadata": {},
   "outputs": [],
   "source": [
    "# threshold image\n",
    "ret, threshed_img = cv2.threshold(imgray, 127, 255, cv2.THRESH_BINARY)"
   ]
  },
  {
   "cell_type": "code",
   "execution_count": 25,
   "id": "89873421",
   "metadata": {},
   "outputs": [],
   "source": [
    "# find contours and get the external one\n",
    "contours, hier = cv2.findContours(threshed_img, cv2.RETR_TREE, cv2.CHAIN_APPROX_SIMPLE)"
   ]
  },
  {
   "cell_type": "code",
   "execution_count": 26,
   "id": "90ad5d4c",
   "metadata": {},
   "outputs": [
    {
     "name": "stdout",
     "output_type": "stream",
     "text": [
      "8\n"
     ]
    }
   ],
   "source": [
    "# with each contour, draw boundingRect in green\n",
    "# a minAreaRect in red and\n",
    "# a minEnclosingCircle in blue\n",
    "arr = np.empty((0,2), int)\n",
    "for c in contours:\n",
    "    # get the min area rect\n",
    "    rect = cv2.minAreaRect(c)\n",
    "    box = cv2.boxPoints(rect)\n",
    "    # convert all coordinates floating point values to int\n",
    "    box = np.int0(box)\n",
    "    arr = np.append(arr, box, axis = 0)\n",
    "    \n",
    "    # draw a red 'nghien' rectangle\n",
    "    cv2.drawContours(img, [box], 0, (0, 0, 255))\n",
    "    #arr = np.append(arr, np.array(box), axis = 0)\n",
    "    #arr = np.append(arr, np.array(box))\n",
    "\n",
    "# 피해 구역 개수\n",
    "print(len(contours))"
   ]
  },
  {
   "cell_type": "code",
   "execution_count": 27,
   "id": "57888b18",
   "metadata": {},
   "outputs": [],
   "source": [
    "arr_split = np.split(arr, len(contours))\n",
    "arr_mean = []\n",
    "\n",
    "for x in arr_split:\n",
    "    arr_mean = np.append(arr_mean, x.mean(axis=0))\n",
    "\n",
    "arr_mean = np.split(arr_mean, len(contours))\n",
    "arr_mean = np.int0(arr_mean)"
   ]
  },
  {
   "cell_type": "code",
   "execution_count": 28,
   "id": "bf6c3fd0",
   "metadata": {},
   "outputs": [],
   "source": [
    "color = (255,0,0)\n",
    "\n",
    "for mean in arr_mean:\n",
    "    x = mean[0]\n",
    "    y = mean[1]\n",
    "    cv2.line(img, (x,y), (x,y), color, 5)\n",
    "    \n",
    "cv2.imwrite(\"coordinate/co_stitched_02.png\", img)    \n",
    "\n",
    "cv2.imshow(\"contours\", img)\n",
    "cv2.waitKey(0)\n",
    "cv2.destroyAllWindows()"
   ]
  },
  {
   "cell_type": "code",
   "execution_count": 29,
   "id": "9a8e8ffa",
   "metadata": {},
   "outputs": [
    {
     "data": {
      "text/plain": [
       "array([[773, 231],\n",
       "       [296, 214],\n",
       "       [236, 239],\n",
       "       [  3, 116],\n",
       "       [ 10, 115],\n",
       "       [  4,  97],\n",
       "       [955,  46],\n",
       "       [428,  40]], dtype=int64)"
      ]
     },
     "execution_count": 29,
     "metadata": {},
     "output_type": "execute_result"
    }
   ],
   "source": [
    "#좌표\n",
    "arr_mean"
   ]
  },
  {
   "cell_type": "markdown",
   "id": "fb662c21",
   "metadata": {},
   "source": [
    "- 면적 출력"
   ]
  },
  {
   "cell_type": "code",
   "execution_count": 30,
   "id": "d2596c78",
   "metadata": {},
   "outputs": [
    {
     "data": {
      "image/png": "[encoded data removed]",
      "text/plain": [
       "<Figure size 432x288 with 1 Axes>"
      ]
     },
     "metadata": {
      "needs_background": "light"
     },
     "output_type": "display_data"
    }
   ],
   "source": [
    "SIZE = 256\n",
    "\n",
    "cv2.imshow(\"threshold\", threshed_img)\n",
    "cv2.waitKey(0)\n",
    "cv2.destroyAllWindows()\n",
    "\n",
    "hist = cv2.calcHist(images = [threshed_img], \n",
    "                    channels = [0], \n",
    "                    mask = None,\n",
    "                    histSize = [SIZE],\n",
    "                    ranges = [0, SIZE])\n",
    "\n",
    "plt.hist(threshed_img.ravel(), SIZE, [0, SIZE])\n",
    "plt.show()"
   ]
  },
  {
   "cell_type": "code",
   "execution_count": 31,
   "id": "4346cc3b",
   "metadata": {},
   "outputs": [
    {
     "name": "stdout",
     "output_type": "stream",
     "text": [
      "피해지역면적 :  [1105.44581703] \n",
      "정상지역면적 :  [8894.55418297]\n"
     ]
    }
   ],
   "source": [
    "height, width = threshed_img.shape[0], threshed_img.shape[1] \n",
    "rectangle_area = height * width\n",
    "rate_w = hist[-1] / rectangle_area\n",
    "rate_b = hist[0] / rectangle_area\n",
    "\n",
    "ds_area = 100*100 # 전체 면적\n",
    "ds_S = ds_area*rate_w # 질병 면적\n",
    "st_S = ds_area*rate_b # 정상 면적\n",
    "    \n",
    "print(\"피해지역면적 : \", ds_S, \"\\n정상지역면적 : \", st_S)"
   ]
  },
  {
   "cell_type": "code",
   "execution_count": null,
   "id": "5d4d320e",
   "metadata": {},
   "outputs": [],
   "source": []
  }
 ],
 "metadata": {
  "kernelspec": {
   "display_name": "Python 3 (ipykernel)",
   "language": "python",
   "name": "python3"
  },
  "language_info": {
   "codemirror_mode": {
    "name": "ipython",
    "version": 3
   },
   "file_extension": ".py",
   "mimetype": "text/x-python",
   "name": "python",
   "nbconvert_exporter": "python",
   "pygments_lexer": "ipython3",
   "version": "3.8.13"
  }
 },
 "nbformat": 4,
 "nbformat_minor": 5
}
