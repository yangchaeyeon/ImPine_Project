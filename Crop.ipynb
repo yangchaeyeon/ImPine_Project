{
 "cells": [
  {
   "cell_type": "code",
   "execution_count": null,
   "id": "fd4ee7d2",
   "metadata": {},
   "outputs": [],
   "source": [
    "import os\n",
    "from PIL import Image"
   ]
  },
  {
   "cell_type": "code",
   "execution_count": 15,
   "id": "8d62fb33",
   "metadata": {},
   "outputs": [],
   "source": [
    "# image resize & cutter\n",
    "# resize parameter\n",
    "\n",
    "interval = 30\n",
    "\n",
    "im = Image.open('0.png')\n",
    "width, height = (267, 308)\n",
    "\n",
    "for i in range(0, height, interval):\n",
    "    for j in range(0, width, interval):\n",
    "        box = (j, i, j+width, i+height)\n",
    "        a = im.crop(box)\n",
    "        a.save('crop_img/test' + f'{i}-{j}.jpg')  \n",
    "        \n",
    "# print(width, height)\n",
    "# resized_im = im.resize((re_width,re_height))\n",
    "# crop_image = im.crop((crop_left, crop_top, crop_right, crop_bottom)) #좌상우하\n",
    "# crop_image.save('crop_img/test.jpg')  "
   ]
  },
  {
   "cell_type": "code",
   "execution_count": 12,
   "id": "e11399a7",
   "metadata": {},
   "outputs": [
    {
     "data": {
      "text/plain": [
       "(267, 308)"
      ]
     },
     "execution_count": 12,
     "metadata": {},
     "output_type": "execute_result"
    }
   ],
   "source": [
    "width, height"
   ]
  },
  {
   "cell_type": "code",
   "execution_count": 16,
   "id": "f9fe51c8",
   "metadata": {},
   "outputs": [
    {
     "data": {
      "text/plain": [
       "(1069, 925)"
      ]
     },
     "execution_count": 16,
     "metadata": {},
     "output_type": "execute_result"
    }
   ],
   "source": [
    "im.size"
   ]
  }
 ],
 "metadata": {
  "kernelspec": {
   "display_name": "Python 3 (ipykernel)",
   "language": "python",
   "name": "python3"
  },
  "language_info": {
   "codemirror_mode": {
    "name": "ipython",
    "version": 3
   },
   "file_extension": ".py",
   "mimetype": "text/x-python",
   "name": "python",
   "nbconvert_exporter": "python",
   "pygments_lexer": "ipython3",
   "version": "3.8.13"
  }
 },
 "nbformat": 4,
 "nbformat_minor": 5
}
