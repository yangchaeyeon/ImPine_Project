{
 "cells": [
  {
   "cell_type": "code",
   "execution_count": 23,
   "id": "61a6bff3",
   "metadata": {},
   "outputs": [],
   "source": [
    "import os\n",
    "from PIL import Image"
   ]
  },
  {
   "cell_type": "code",
   "execution_count": 28,
   "id": "8d62fb33",
   "metadata": {},
   "outputs": [],
   "source": [
    "img = Image.open('0.png')\n",
    "img = img.resize((1000, 900))\n",
    "\n",
    "interval = 50\n",
    "\n",
    "width, height = img.size\n",
    "cwidth, cheight = (250, 300)\n",
    "\n",
    "for i in range(0, height, interval):\n",
    "    for j in range(0, width, interval):\n",
    "        if j+cwidth > width or i+cheight > height:\n",
    "            continue\n",
    "        box = (j, i, j+cwidth, i+cheight)\n",
    "        crop = img.crop(box)\n",
    "        crop.save('crop_img/test' + f'{i}-{j}.jpg')  "
   ]
  }
 ],
 "metadata": {
  "kernelspec": {
   "display_name": "Python 3 (ipykernel)",
   "language": "python",
   "name": "python3"
  },
  "language_info": {
   "codemirror_mode": {
    "name": "ipython",
    "version": 3
   },
   "file_extension": ".py",
   "mimetype": "text/x-python",
   "name": "python",
   "nbconvert_exporter": "python",
   "pygments_lexer": "ipython3",
   "version": "3.8.13"
  }
 },
 "nbformat": 4,
 "nbformat_minor": 5
}
