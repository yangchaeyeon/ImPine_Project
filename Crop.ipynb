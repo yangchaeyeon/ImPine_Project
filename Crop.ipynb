{
 "cells": [
  {
   "cell_type": "code",
   "execution_count": 2,
   "id": "61a6bff3",
   "metadata": {},
   "outputs": [],
   "source": [
    "import os\n",
    "from PIL import Image"
   ]
  },
  {
   "cell_type": "code",
   "execution_count": 19,
   "id": "8d62fb33",
   "metadata": {},
   "outputs": [],
   "source": [
    "img = Image.open('0.png')\n",
    "img = img.resize((2048, 1536))\n",
    "\n",
    "interval = 128\n",
    "\n",
    "width, height = img.size\n",
    "cwidth, cheight = (512, 512)\n",
    "\n",
    "reverse = width - cwidth\n",
    "\n",
    "for i in range(0, height, interval): \n",
    "    for j in range(0, width, interval):\n",
    "        if j+cwidth > width or i+cheight > height:\n",
    "            continue\n",
    "        if 0 < i < 512:\n",
    "            if j+cwidth != width:\n",
    "                continue\n",
    "        if i > 512 and i < 1024:\n",
    "            if j != 0:\n",
    "                continue\n",
    "        \n",
    "        box = (j, i, j+cwidth, i+cheight)\n",
    "        crop = img.crop(box)\n",
    "        if i == cheight * 1:\n",
    "            crop.save('crop_img/test' + f'{i}-{reverse-j}.png')\n",
    "        else:\n",
    "            crop.save('crop_img/test' + f'{i}-{j}.png')"
   ]
  },
  {
   "cell_type": "code",
   "execution_count": null,
   "id": "56530b46",
   "metadata": {},
   "outputs": [],
   "source": []
  }
 ],
 "metadata": {
  "kernelspec": {
   "display_name": "Python 3 (ipykernel)",
   "language": "python",
   "name": "python3"
  },
  "language_info": {
   "codemirror_mode": {
    "name": "ipython",
    "version": 3
   },
   "file_extension": ".py",
   "mimetype": "text/x-python",
   "name": "python",
   "nbconvert_exporter": "python",
   "pygments_lexer": "ipython3",
   "version": "3.8.13"
  }
 },
 "nbformat": 4,
 "nbformat_minor": 5
}
